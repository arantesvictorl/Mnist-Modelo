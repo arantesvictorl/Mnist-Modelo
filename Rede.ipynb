{
 "cells": [
  {
   "cell_type": "code",
   "execution_count": null,
   "metadata": {},
   "outputs": [],
   "source": [
    "# %pip install tensorflow\n",
    "# %pip install matplotlib"
   ]
  },
  {
   "cell_type": "markdown",
   "metadata": {},
   "source": [
    "# Importações\n",
    "* Mnist é uma base de dados embutida no Keras"
   ]
  },
  {
   "cell_type": "code",
   "execution_count": 96,
   "metadata": {},
   "outputs": [],
   "source": [
    "import tensorflow as tf\n",
    "import matplotlib.pyplot as plt\n",
    "import matplotlib.image as mpimg\n",
    "import random\n",
    "import numpy as np\n",
    "mnist = tf.keras.datasets.mnist"
   ]
  },
  {
   "cell_type": "markdown",
   "metadata": {},
   "source": [
    "# Dividindo dados em teste e treino"
   ]
  },
  {
   "cell_type": "code",
   "execution_count": 52,
   "metadata": {},
   "outputs": [],
   "source": [
    "(XTreino, YTreino), (XTeste, YTeste) = mnist.load_data()"
   ]
  },
  {
   "cell_type": "markdown",
   "metadata": {},
   "source": [
    "# Visualizar Dados"
   ]
  },
  {
   "cell_type": "code",
   "execution_count": null,
   "metadata": {},
   "outputs": [],
   "source": [
    "print(XTreino.shape)\n",
    "print(XTeste.shape)"
   ]
  },
  {
   "cell_type": "code",
   "execution_count": 13,
   "metadata": {},
   "outputs": [],
   "source": [
    "def verNumero(classe, X, y):\n",
    "    nImagens = 8\n",
    "    print(f\"Classe selecionada: {classe}\")\n",
    "    Xselecionados = X[y == classe]\n",
    "    fig, axs = plt.subplots(nrows=1, ncols=nImagens, figsize=(nImagens, 1))\n",
    "    for i in range(nImagens):\n",
    "        posAleatoria = random.randint(0, len(Xselecionados)-1)\n",
    "        axs[i].imshow(Xselecionados[posAleatoria,:,:], cmap=plt.get_cmap(\"gray\"))\n",
    "        axs[i].axis(\"off\")"
   ]
  },
  {
   "cell_type": "code",
   "execution_count": 45,
   "metadata": {},
   "outputs": [
    {
     "name": "stdout",
     "output_type": "stream",
     "text": [
      "Classe selecionada: 1\n"
     ]
    },
    {
     "data": {
      "image/png": "[encoded data removed]",
      "text/plain": [
       "<Figure size 800x100 with 8 Axes>"
      ]
     },
     "metadata": {},
     "output_type": "display_data"
    }
   ],
   "source": [
    "verNumero(1, XTeste, YTeste)"
   ]
  },
  {
   "cell_type": "code",
   "execution_count": 44,
   "metadata": {},
   "outputs": [
    {
     "name": "stdout",
     "output_type": "stream",
     "text": [
      "[5923 6742 5958 6131 5842 5421 5918 6265 5851 5949]\n"
     ]
    }
   ],
   "source": [
    "contagem = np.bincount(YTreino)# Contar quantas imagens tem de cada número\n",
    "print(contagem)# Se tiver equilibrado diminui o Viés"
   ]
  },
  {
   "cell_type": "markdown",
   "metadata": {},
   "source": [
    "# Tratando os dados para treinamento"
   ]
  },
  {
   "cell_type": "code",
   "execution_count": 55,
   "metadata": {},
   "outputs": [
    {
     "name": "stdout",
     "output_type": "stream",
     "text": [
      "Número de Classes: 10\n"
     ]
    }
   ],
   "source": [
    "YTreinoT = tf.keras.utils.to_categorical(YTreino, 10)\n",
    "YTesteT = tf.keras.utils.to_categorical(YTeste, 10)\n",
    "\n",
    "numClasses = len(YTreinoT[0])\n",
    "print(f\"Número de Classes: {numClasses}\")"
   ]
  },
  {
   "cell_type": "code",
   "execution_count": null,
   "metadata": {},
   "outputs": [],
   "source": [
    "print(YTreino[5])\n",
    "print(YTreinoT[5])"
   ]
  },
  {
   "cell_type": "code",
   "execution_count": 60,
   "metadata": {},
   "outputs": [],
   "source": [
    "#Deixar os números entre 0 e 1\n",
    "XTreinoT = XTreino/255.0\n",
    "XTesteT = XTeste/255.0"
   ]
  },
  {
   "cell_type": "code",
   "execution_count": null,
   "metadata": {},
   "outputs": [],
   "source": [
    "print(XTeste[0,:,:])\n",
    "# print(XTesteT[0,:,:])"
   ]
  },
  {
   "cell_type": "code",
   "execution_count": 67,
   "metadata": {},
   "outputs": [
    {
     "name": "stdout",
     "output_type": "stream",
     "text": [
      "(60000, 784)\n",
      "(10000, 784)\n"
     ]
    }
   ],
   "source": [
    "numPixels = 28 * 28\n",
    "XTreinoT = XTreinoT.reshape(XTreinoT.shape[0], numPixels)\n",
    "XTesteT = XTesteT.reshape(XTesteT.shape[0], numPixels)\n",
    "\n",
    "print(XTreinoT.shape)\n",
    "print(XTesteT.shape)"
   ]
  },
  {
   "cell_type": "markdown",
   "metadata": {},
   "source": [
    "# Treino"
   ]
  },
  {
   "cell_type": "markdown",
   "metadata": {},
   "source": [
    "## Estrutura da Rede"
   ]
  },
  {
   "cell_type": "code",
   "execution_count": 69,
   "metadata": {},
   "outputs": [
    {
     "name": "stdout",
     "output_type": "stream",
     "text": [
      "Model: \"sequential_1\"\n",
      "_________________________________________________________________\n",
      " Layer (type)                Output Shape              Param #   \n",
      "=================================================================\n",
      " dense_3 (Dense)             (None, 400)               314000    \n",
      "                                                                 \n",
      " dense_4 (Dense)             (None, 250)               100250    \n",
      "                                                                 \n",
      " dense_5 (Dense)             (None, 10)                2510      \n",
      "                                                                 \n",
      "=================================================================\n",
      "Total params: 416,760\n",
      "Trainable params: 416,760\n",
      "Non-trainable params: 0\n",
      "_________________________________________________________________\n",
      "None\n"
     ]
    }
   ],
   "source": [
    "modelo = tf.keras.models.Sequential()\n",
    "modelo.add(tf.keras.layers.Dense(400, input_dim= numPixels, activation=\"relu\"))\n",
    "modelo.add(tf.keras.layers.Dense(250, activation=\"relu\"))\n",
    "modelo.add(tf.keras.layers.Dense(numClasses, activation=\"softmax\"))\n",
    "modelo.compile(tf.keras.optimizers.Adam(learning_rate=0.01), loss=\"categorical_crossentropy\", metrics=[\"accuracy\"])\n",
    "print(modelo.summary())"
   ]
  },
  {
   "cell_type": "markdown",
   "metadata": {},
   "source": [
    "## Treinando"
   ]
  },
  {
   "cell_type": "code",
   "execution_count": 260,
   "metadata": {},
   "outputs": [
    {
     "name": "stdout",
     "output_type": "stream",
     "text": [
      "Epoch 1/50\n",
      "255/255 [==============================] - 1s 5ms/step - loss: 0.0466 - accuracy: 0.9878 - val_loss: 0.1839 - val_accuracy: 0.9713\n",
      "Epoch 2/50\n",
      "255/255 [==============================] - 1s 5ms/step - loss: 0.0390 - accuracy: 0.9902 - val_loss: 0.1689 - val_accuracy: 0.9754\n",
      "Epoch 3/50\n",
      "255/255 [==============================] - 1s 5ms/step - loss: 0.0355 - accuracy: 0.9910 - val_loss: 0.1811 - val_accuracy: 0.9757\n",
      "Epoch 4/50\n",
      "255/255 [==============================] - 1s 5ms/step - loss: 0.0454 - accuracy: 0.9894 - val_loss: 0.1964 - val_accuracy: 0.9727\n",
      "Epoch 5/50\n",
      "255/255 [==============================] - 1s 5ms/step - loss: 0.0462 - accuracy: 0.9890 - val_loss: 0.1847 - val_accuracy: 0.9764\n",
      "Epoch 6/50\n",
      "255/255 [==============================] - 1s 5ms/step - loss: 0.0298 - accuracy: 0.9922 - val_loss: 0.1969 - val_accuracy: 0.9716\n",
      "Epoch 7/50\n",
      "255/255 [==============================] - 1s 5ms/step - loss: 0.0427 - accuracy: 0.9898 - val_loss: 0.1538 - val_accuracy: 0.9771\n",
      "Epoch 8/50\n",
      "255/255 [==============================] - 1s 5ms/step - loss: 0.0331 - accuracy: 0.9917 - val_loss: 0.1857 - val_accuracy: 0.9774\n",
      "Epoch 9/50\n",
      "255/255 [==============================] - 1s 5ms/step - loss: 0.0398 - accuracy: 0.9911 - val_loss: 0.1598 - val_accuracy: 0.9762\n",
      "Epoch 10/50\n",
      "255/255 [==============================] - 1s 6ms/step - loss: 0.0389 - accuracy: 0.9911 - val_loss: 0.2084 - val_accuracy: 0.9743\n",
      "Epoch 11/50\n",
      "255/255 [==============================] - 1s 6ms/step - loss: 0.0366 - accuracy: 0.9911 - val_loss: 0.1844 - val_accuracy: 0.9767\n",
      "Epoch 12/50\n",
      "255/255 [==============================] - 1s 5ms/step - loss: 0.0384 - accuracy: 0.9917 - val_loss: 0.1898 - val_accuracy: 0.9780\n",
      "Epoch 13/50\n",
      "255/255 [==============================] - 1s 5ms/step - loss: 0.0261 - accuracy: 0.9938 - val_loss: 0.2364 - val_accuracy: 0.9764\n",
      "Epoch 14/50\n",
      "255/255 [==============================] - 1s 5ms/step - loss: 0.0336 - accuracy: 0.9930 - val_loss: 0.2286 - val_accuracy: 0.9741\n",
      "Epoch 15/50\n",
      "255/255 [==============================] - 1s 5ms/step - loss: 0.0355 - accuracy: 0.9924 - val_loss: 0.2271 - val_accuracy: 0.9727\n",
      "Epoch 16/50\n",
      "255/255 [==============================] - 1s 5ms/step - loss: 0.0287 - accuracy: 0.9932 - val_loss: 0.2605 - val_accuracy: 0.9732\n",
      "Epoch 17/50\n",
      "255/255 [==============================] - 1s 5ms/step - loss: 0.0379 - accuracy: 0.9925 - val_loss: 0.2497 - val_accuracy: 0.9759\n",
      "Epoch 18/50\n",
      "255/255 [==============================] - 1s 5ms/step - loss: 0.0409 - accuracy: 0.9920 - val_loss: 0.2226 - val_accuracy: 0.9769\n",
      "Epoch 19/50\n",
      "255/255 [==============================] - 1s 5ms/step - loss: 0.0284 - accuracy: 0.9941 - val_loss: 0.2380 - val_accuracy: 0.9752\n",
      "Epoch 20/50\n",
      "255/255 [==============================] - 1s 5ms/step - loss: 0.0275 - accuracy: 0.9941 - val_loss: 0.2803 - val_accuracy: 0.9761\n",
      "Epoch 21/50\n",
      "255/255 [==============================] - 1s 5ms/step - loss: 0.0389 - accuracy: 0.9922 - val_loss: 0.2521 - val_accuracy: 0.9740\n",
      "Epoch 22/50\n",
      "255/255 [==============================] - 1s 5ms/step - loss: 0.0246 - accuracy: 0.9945 - val_loss: 0.2923 - val_accuracy: 0.9748\n",
      "Epoch 23/50\n",
      "255/255 [==============================] - 1s 5ms/step - loss: 0.0248 - accuracy: 0.9946 - val_loss: 0.2578 - val_accuracy: 0.9753\n",
      "Epoch 24/50\n",
      "255/255 [==============================] - 1s 5ms/step - loss: 0.0362 - accuracy: 0.9935 - val_loss: 0.2619 - val_accuracy: 0.9744\n",
      "Epoch 25/50\n",
      "255/255 [==============================] - 1s 5ms/step - loss: 0.0230 - accuracy: 0.9949 - val_loss: 0.2578 - val_accuracy: 0.9763\n",
      "Epoch 26/50\n",
      "255/255 [==============================] - 1s 5ms/step - loss: 0.0251 - accuracy: 0.9955 - val_loss: 0.2751 - val_accuracy: 0.9756\n",
      "Epoch 27/50\n",
      "255/255 [==============================] - 1s 5ms/step - loss: 0.0326 - accuracy: 0.9933 - val_loss: 0.2566 - val_accuracy: 0.9768\n",
      "Epoch 28/50\n",
      "255/255 [==============================] - 1s 6ms/step - loss: 0.0313 - accuracy: 0.9942 - val_loss: 0.2695 - val_accuracy: 0.9763\n",
      "Epoch 29/50\n",
      "255/255 [==============================] - 2s 6ms/step - loss: 0.0240 - accuracy: 0.9949 - val_loss: 0.3198 - val_accuracy: 0.9766\n",
      "Epoch 30/50\n",
      "255/255 [==============================] - 2s 6ms/step - loss: 0.0368 - accuracy: 0.9928 - val_loss: 0.3120 - val_accuracy: 0.9747\n",
      "Epoch 31/50\n",
      "255/255 [==============================] - 1s 5ms/step - loss: 0.0446 - accuracy: 0.9931 - val_loss: 0.2774 - val_accuracy: 0.9787\n",
      "Epoch 32/50\n",
      "255/255 [==============================] - 2s 8ms/step - loss: 0.0276 - accuracy: 0.9942 - val_loss: 0.2633 - val_accuracy: 0.9760\n",
      "Epoch 33/50\n",
      "255/255 [==============================] - 2s 8ms/step - loss: 0.0197 - accuracy: 0.9959 - val_loss: 0.2490 - val_accuracy: 0.9783\n",
      "Epoch 34/50\n",
      "255/255 [==============================] - 1s 5ms/step - loss: 0.0215 - accuracy: 0.9957 - val_loss: 0.2722 - val_accuracy: 0.9797\n",
      "Epoch 35/50\n",
      "255/255 [==============================] - 1s 6ms/step - loss: 0.0213 - accuracy: 0.9959 - val_loss: 0.3082 - val_accuracy: 0.9754\n",
      "Epoch 36/50\n",
      "255/255 [==============================] - 1s 5ms/step - loss: 0.0209 - accuracy: 0.9958 - val_loss: 0.3051 - val_accuracy: 0.9784\n",
      "Epoch 37/50\n",
      "255/255 [==============================] - 1s 5ms/step - loss: 0.0264 - accuracy: 0.9954 - val_loss: 0.2994 - val_accuracy: 0.9782\n",
      "Epoch 38/50\n",
      "255/255 [==============================] - 1s 5ms/step - loss: 0.0221 - accuracy: 0.9957 - val_loss: 0.3150 - val_accuracy: 0.9757\n",
      "Epoch 39/50\n",
      "255/255 [==============================] - 1s 5ms/step - loss: 0.0353 - accuracy: 0.9945 - val_loss: 0.2802 - val_accuracy: 0.9742\n",
      "Epoch 40/50\n",
      "255/255 [==============================] - 1s 5ms/step - loss: 0.0248 - accuracy: 0.9952 - val_loss: 0.3106 - val_accuracy: 0.9783\n",
      "Epoch 41/50\n",
      "255/255 [==============================] - 1s 5ms/step - loss: 0.0216 - accuracy: 0.9961 - val_loss: 0.3846 - val_accuracy: 0.9762\n",
      "Epoch 42/50\n",
      "255/255 [==============================] - 1s 5ms/step - loss: 0.0427 - accuracy: 0.9927 - val_loss: 0.3515 - val_accuracy: 0.9767\n",
      "Epoch 43/50\n",
      "255/255 [==============================] - 1s 5ms/step - loss: 0.0315 - accuracy: 0.9946 - val_loss: 0.3079 - val_accuracy: 0.9726\n",
      "Epoch 44/50\n",
      "255/255 [==============================] - 1s 5ms/step - loss: 0.0332 - accuracy: 0.9953 - val_loss: 0.3825 - val_accuracy: 0.9721\n",
      "Epoch 45/50\n",
      "255/255 [==============================] - 1s 5ms/step - loss: 0.0384 - accuracy: 0.9940 - val_loss: 0.4486 - val_accuracy: 0.9748\n",
      "Epoch 46/50\n",
      "255/255 [==============================] - 1s 5ms/step - loss: 0.0238 - accuracy: 0.9956 - val_loss: 0.3386 - val_accuracy: 0.9751\n",
      "Epoch 47/50\n",
      "255/255 [==============================] - 1s 6ms/step - loss: 0.0144 - accuracy: 0.9970 - val_loss: 0.3434 - val_accuracy: 0.9780\n",
      "Epoch 48/50\n",
      "255/255 [==============================] - 1s 5ms/step - loss: 0.0207 - accuracy: 0.9964 - val_loss: 0.3375 - val_accuracy: 0.9753\n",
      "Epoch 49/50\n",
      "255/255 [==============================] - 1s 5ms/step - loss: 0.0205 - accuracy: 0.9962 - val_loss: 0.3225 - val_accuracy: 0.9752\n",
      "Epoch 50/50\n",
      "255/255 [==============================] - 1s 6ms/step - loss: 0.0260 - accuracy: 0.9958 - val_loss: 0.4403 - val_accuracy: 0.9762\n"
     ]
    }
   ],
   "source": [
    "historico = modelo.fit(XTreinoT,\n",
    "                       YTreinoT, \n",
    "                       validation_split=0.15,\n",
    "                       epochs=50, \n",
    "                       batch_size=200, \n",
    "                       verbose=1, \n",
    "                       shuffle=1)"
   ]
  },
  {
   "cell_type": "code",
   "execution_count": 261,
   "metadata": {},
   "outputs": [
    {
     "data": {
      "text/plain": [
       "Text(0.5, 0, 'Epoch')"
      ]
     },
     "execution_count": 261,
     "metadata": {},
     "output_type": "execute_result"
    },
    {
     "data": {
      "image/png": "[encoded data removed]",
      "text/plain": [
       "<Figure size 640x480 with 1 Axes>"
      ]
     },
     "metadata": {},
     "output_type": "display_data"
    }
   ],
   "source": [
    "plt.plot(historico.history[\"loss\"])\n",
    "plt.plot(historico.history[\"val_loss\"])\n",
    "plt.legend([\"Loss\", \"Val_loss\"])\n",
    "plt.title(\"Loss\")\n",
    "plt.xlabel(\"Epoch\")"
   ]
  },
  {
   "cell_type": "markdown",
   "metadata": {},
   "source": [
    "# Testando o Modelo"
   ]
  },
  {
   "cell_type": "code",
   "execution_count": 304,
   "metadata": {},
   "outputs": [
    {
     "name": "stdout",
     "output_type": "stream",
     "text": [
      "<class 'list'>\n",
      "Teste Score: 0.35860565304756165\n",
      "Teste Acurácia: 0.9782000184059143\n"
     ]
    }
   ],
   "source": [
    "score = modelo.evaluate(XTesteT, YTesteT, verbose=0)\n",
    "print(type(score))\n",
    "print(f\"Teste Score: {score[0]}\")\n",
    "print(f\"Teste Acurácia: {score[1]}\")"
   ]
  },
  {
   "cell_type": "code",
   "execution_count": 292,
   "metadata": {},
   "outputs": [],
   "source": [
    "# modelo.save(\"Modelo97.h5\")"
   ]
  },
  {
   "cell_type": "code",
   "execution_count": 416,
   "metadata": {},
   "outputs": [
    {
     "name": "stdout",
     "output_type": "stream",
     "text": [
      "9583\n"
     ]
    },
    {
     "data": {
      "image/png": "[encoded data removed]",
      "text/plain": [
       "<Figure size 640x480 with 1 Axes>"
      ]
     },
     "metadata": {},
     "output_type": "display_data"
    }
   ],
   "source": [
    "posAleatoria = random.randint(0, len(XTeste))\n",
    "print(posAleatoria)\n",
    "imagem = XTeste[posAleatoria,:,:]\n",
    "plt.imshow(imagem, cmap=plt.get_cmap(\"gray\"))\n",
    "#Tratamento\n",
    "imagem = imagem/255.0\n",
    "imagem = imagem.reshape(1, numPixels)"
   ]
  },
  {
   "cell_type": "code",
   "execution_count": 417,
   "metadata": {},
   "outputs": [
    {
     "name": "stdout",
     "output_type": "stream",
     "text": [
      "1/1 [==============================] - 0s 20ms/step\n",
      "Porcentagem de Certeza:\n",
      "Número 5 --> 100.00000%\n",
      "Número 0 --> 0.00000%\n",
      "Número 1 --> 0.00000%\n"
     ]
    }
   ],
   "source": [
    "# Previsão \n",
    "previsao = modelo.predict(imagem)[0]\n",
    "indices = sorted(range(len(previsao)), key=lambda i: previsao[i], reverse=True)[:3]\n",
    "print(\"Porcentagem de Certeza:\")\n",
    "for count in indices:\n",
    "    print(f\"Número {count} --> {previsao[count]*100:.5f}%\")"
   ]
  }
 ],
 "metadata": {
  "kernelspec": {
   "display_name": "Python 3.10.6 ('venv': venv)",
   "language": "python",
   "name": "python3"
  },
  "language_info": {
   "codemirror_mode": {
    "name": "ipython",
    "version": 3
   },
   "file_extension": ".py",
   "mimetype": "text/x-python",
   "name": "python",
   "nbconvert_exporter": "python",
   "pygments_lexer": "ipython3",
   "version": "3.10.6"
  },
  "orig_nbformat": 4,
  "vscode": {
   "interpreter": {
    "hash": "818a220ee53bfa58d6ee5e7ebcda3b3bdbc3abf5353eb859e69dc78e2fef5b5d"
   }
  }
 },
 "nbformat": 4,
 "nbformat_minor": 2
}
